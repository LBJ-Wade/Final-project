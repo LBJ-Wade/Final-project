{
 "cells": [
  {
   "cell_type": "code",
   "execution_count": 76,
   "metadata": {},
   "outputs": [
    {
     "data": {
      "image/png": "[encoded data removed]",
      "text/plain": [
       "<matplotlib.figure.Figure at 0x15111cebd0>"
      ]
     },
     "metadata": {},
     "output_type": "display_data"
    }
   ],
   "source": [
    "import numpy as np\n",
    "import matplotlib.pyplot as plt\n",
    "from scipy.integrate import *\n",
    "from scipy import *\n",
    "import scipy as sp\n",
    "\n",
    "def Numerical():\n",
    "    alpha = 1\n",
    "    beta = 1\n",
    "    gamma = 1\n",
    "    Rho_0 = 1\n",
    "    Rs = 1\n",
    "    G = 1\n",
    "    params = [alpha,beta,gamma,Rho_0,Rs,G]\n",
    "\n",
    "   \n",
    "    #define R  as a linear space\n",
    "    R_min = 0.1\n",
    "    R_max = 60\n",
    "    R_step = 10000\n",
    "    R = np.linspace(R_min,R_max,R_step)\n",
    " #define the density profile\n",
    "    Rho =Rho_0/ ((1+(R/Rs)**2)**(3/2))\n",
    "    #Rho_0/ ( (R/Rs)**gamma * (1+(R/Rs)**alpha)**((beta-gamma)/alpha) ) Somethings worng with this one\n",
    "\n",
    "    #Rho_0/ ((1+(R/Rs)**2)**(3/2)) works well\n",
    "    \n",
    "    #Get Rho as a list\n",
    "    #Rho = Rho(R,params)\n",
    "    \n",
    "    J = 2*np.pi*R #The Jacodian for the integral\n",
    "    U = J*Rho #the integrand \n",
    "    #print(U)\n",
    "    \n",
    "    \n",
    "    #Get the mass as a list\n",
    "    #requieres an integral\n",
    "    M =  cumtrapz(U, x=R, dx = R_step, initial = 0)\n",
    "    #M = M(Rho,R,params)\n",
    "    #print M\n",
    "    \n",
    "    V = np.sqrt((G*M)/R)\n",
    "    plt.figure\n",
    "    plt.plot(R,V)\n",
    "    plt.plot(R,U)\n",
    "    plt.plot(R,M)\n",
    "    plt.show()\n",
    "\n",
    "if __name__ == '__Numerical__':\n",
    "    Numerical()\n",
    "Numerical()"
   ]
  },
  {
   "cell_type": "code",
   "execution_count": null,
   "metadata": {
    "collapsed": true
   },
   "outputs": [],
   "source": []
  },
  {
   "cell_type": "code",
   "execution_count": null,
   "metadata": {
    "collapsed": true
   },
   "outputs": [],
   "source": []
  }
 ],
 "metadata": {
  "kernelspec": {
   "display_name": "Python 2",
   "language": "python",
   "name": "python2"
  }
 },
 "nbformat": 4,
 "nbformat_minor": 2
}
